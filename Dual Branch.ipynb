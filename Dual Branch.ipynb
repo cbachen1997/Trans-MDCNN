{
 "cells": [
  {
   "cell_type": "code",
   "execution_count": 1,
   "metadata": {},
   "outputs": [
    {
     "name": "stderr",
     "output_type": "stream",
     "text": [
      "2022-03-24 16:27:48.023694: I tensorflow/stream_executor/platform/default/dso_loader.cc:53] Successfully opened dynamic library libcudart.so.11.0\n"
     ]
    }
   ],
   "source": [
    "import tensorflow as tf\n",
    "from sklearn.utils import shuffle\n",
    "import tifffile as tiff\n",
    "from tensorflow import keras as K\n",
    "import tensorflow.keras.layers as L\n",
    "import numpy as np\n",
    "import pandas as pd\n",
    "import cv2\n",
    "from tqdm import *\n",
    "from tensorflow.keras.callbacks import ModelCheckpoint\n",
    "from tensorflow.keras.callbacks import EarlyStopping\n",
    "from tensorflow.keras.callbacks import LambdaCallback\n",
    "from tensorflow.keras import regularizers\n",
    "from tensorflow.keras.models import Model\n",
    "from tensorflow.keras.layers import *\n",
    "from tensorflow.keras.utils import to_categorical\n",
    "from tensorflow.keras.layers import Conv2D\n",
    "from tensorflow.keras.layers import GlobalAveragePooling2D\n",
    "from tensorflow.keras import backend as Kb\n",
    "from collections import Counter\n",
    "from tensorflow.keras.activations import relu,softmax\n",
    "from tensorflow.keras.utils import plot_model\n",
    "from tensorflow.keras.models import load_model\n",
    "# from keras_bert import get_custom_objects\n",
    "import matplotlib.pyplot as plt\n",
    "from vit_keras import vit,utils, visualize\n",
    "# from keras_unet_collection._model_transunet_2d import *\n",
    "# from keras_unet_collection.transformer_layers import *\n",
    "import efficientnet.keras as efn\n"
   ]
  },
  {
   "cell_type": "code",
   "execution_count": 2,
   "metadata": {},
   "outputs": [],
   "source": [
    "inputShape = (224,224,3)\n",
    "# inputShape = (380,380,3)\n",
    "inputShapeLSTM = (4,1000)\n",
    "TIME_STEPS = 4\n",
    "SINGLE_ATTENTION_VECTOR = False"
   ]
  },
  {
   "cell_type": "markdown",
   "metadata": {},
   "source": [
    "# **Unchanged Function**"
   ]
  },
  {
   "cell_type": "code",
   "execution_count": 3,
   "metadata": {},
   "outputs": [],
   "source": [
    "def BN_LeakyReLU(input):\n",
    "    norm = BatchNormalization(axis=-1)(input)\n",
    "    output = LeakyReLU(alpha=0.2)(norm)\n",
    "    \n",
    "    return output\n",
    "\n",
    "\n",
    "def MDCN(input_layers, n_filters): \n",
    "    '''\n",
    "    Skip connection is added.\n",
    "    '''\n",
    "    # stream_left\n",
    "    conv_left = Conv2D(n_filters, (3, 3), padding='same', dilation_rate = 4, kernel_initializer='he_normal',\n",
    "                        kernel_regularizer=regularizers.l2(0.0001))(input_layers)\n",
    "    conv_left = BN_LeakyReLU(conv_left)\n",
    "    # stream_middle_up\n",
    "    conv_middle_1 = Conv2D(n_filters, (3, 3), padding='same', dilation_rate = 3, kernel_initializer='he_normal',\n",
    "                            kernel_regularizer=regularizers.l2(0.0001))(input_layers)\n",
    "    conv_middle_1 = BN_LeakyReLU(conv_middle_1)\n",
    "    # stream_right_up\n",
    "    conv_right_1 = Conv2D(n_filters, (3, 3), padding='same', dilation_rate = 2, kernel_initializer='he_normal',\n",
    "                            kernel_regularizer=regularizers.l2(0.0001))(input_layers)\n",
    "    conv_right_1 = BN_LeakyReLU(conv_right_1)\n",
    "    conv_right_2 = Conv2D(n_filters, (3, 3), padding='same', dilation_rate = 2, kernel_initializer='he_normal',\n",
    "                            kernel_regularizer=regularizers.l2(0.0001))(conv_right_1)\n",
    "    conv_right_2 = BN_LeakyReLU(conv_right_2)\n",
    "    \n",
    "    # stream_sum_1\n",
    "    sum_1 = add([conv_middle_1, conv_right_2])\n",
    "    \n",
    "    # stream_middle_down\n",
    "    conv_middle_2 = Conv2D(n_filters, (3, 3), padding='same', dilation_rate = 3, kernel_initializer='he_normal',\n",
    "                            kernel_regularizer=regularizers.l2(0.0001))(sum_1)\n",
    "    conv_middle_2 = BN_LeakyReLU(conv_middle_2)\n",
    "    # stream_right_down\n",
    "    conv_right_3 = Conv2D(n_filters, (3, 3), padding='same', dilation_rate = 2, kernel_initializer='he_normal',\n",
    "                            kernel_regularizer=regularizers.l2(0.0001))(sum_1)\n",
    "    conv_right_3 = BN_LeakyReLU(conv_right_3)\n",
    "    conv_right_4 = Conv2D(n_filters, (3, 3), padding='same', dilation_rate = 2, kernel_initializer='he_normal',\n",
    "                            kernel_regularizer=regularizers.l2(0.0001))(conv_right_3)\n",
    "    conv_right_4 = BN_LeakyReLU(conv_right_4)\n",
    "    # print(input_layers.shape,conv_left.shape,conv_middle_2.shape,conv_right_4.shape) \n",
    "    # stream_sum_2\n",
    "    # sum_2 = add([conv_left, conv_middle_2, conv_right_4])\n",
    "    sum_2 = add([conv_left, conv_middle_2, conv_right_4,input_layers])\n",
    "    \n",
    "    return sum_2\n",
    "def attention_3d_block(inputs):\n",
    "    # inputs.shape = (batch_size, time_steps, input_dim)\n",
    "    input_dim = int(inputs.shape[2])\n",
    "    a = L.Permute((2, 1))(inputs)\n",
    "    a = L.Reshape((input_dim, TIME_STEPS))(a) # this line is not useful. It's just to know which dimension is what.\n",
    "    a = L.Dense(TIME_STEPS, activation='softmax')(a)\n",
    "    if SINGLE_ATTENTION_VECTOR:\n",
    "        a = Lambda(lambda x: K.mean(x, axis=1), name='dim_reduction')(a)\n",
    "        a = RepeatVector(input_dim)(a)\n",
    "    a_probs = L.Permute((2, 1), name='attention_vec')(a)\n",
    "    # print(inputs.shape,a_probs.shape)\n",
    "    output_attention_mul = L.Multiply()([inputs, a_probs])\n",
    "    return output_attention_mul"
   ]
  },
  {
   "cell_type": "code",
   "execution_count": 4,
   "metadata": {},
   "outputs": [],
   "source": [
    "from sklearn.metrics import confusion_matrix\n",
    "from sklearn.metrics import accuracy_score, cohen_kappa_score\n",
    "import matplotlib.pyplot as pl\n",
    "def get_OA(cm):\n",
    "    \n",
    "    total = cm.sum()\n",
    "    \n",
    "    diag_arr = np.diagonal(cm, offset=0)\n",
    "    \n",
    "    correct = diag_arr.sum()\n",
    "    \n",
    "    OA = (correct/total) * 100\n",
    "    \n",
    "    return OA\n",
    "def getOAThreshold(Y_pred,threshold=0.8):\n",
    "    tmp = []\n",
    "    for i in range(len(Y_pred)):\n",
    "        if Y_pred[i][0] > threshold:\n",
    "            tmp.append(0)\n",
    "        else:\n",
    "            tmp.append(1)\n",
    "    return tmp\n",
    "def get_cm_oa_kappa(Y_test, Y_pred):\n",
    "    \n",
    "    # Y_pred = np.argmax(Y_pred, axis=1)\n",
    "    \n",
    "    Y_test = Y_test.tolist()\n",
    "    # Y_pred = Y_pred.tolist()\n",
    "   \n",
    "    cm = confusion_matrix(Y_test,Y_pred)\n",
    "    \n",
    "    oa = get_OA(cm)\n",
    "    \n",
    "    kappa = cohen_kappa_score(Y_test,Y_pred)\n",
    "    \n",
    "    # print(cm)\n",
    "    \n",
    "    return cm, oa, kappa\n",
    "def plot_matrix(y_test, y_pred, labels_name, title=None, thresh=0.8, axis_labels=None):\n",
    "    Y_pred = np.argmax(y_pred, axis=1)\n",
    "    \n",
    "    y_true = y_test.tolist()\n",
    "    Y_pred = Y_pred.tolist()\n",
    "    # 利用sklearn中的函数生成混淆矩阵并归一化\n",
    "    cm = confusion_matrix(y_true, Y_pred)  # 生成混淆矩阵 \n",
    "    cm = cm.astype('float') / cm.sum(axis=1)[:, np.newaxis]  # 归一化\n",
    "\n",
    "    # 画图，如果希望改变颜色风格，可以改变此部分的cmap=pl.get_cmap('Blues')处\n",
    "    pl.imshow(cm, interpolation='nearest', cmap=pl.get_cmap('Blues'))\n",
    "    pl.colorbar()  # 绘制图例\n",
    "    pl.title(title, fontsize=15,fontfamily='SimHei')\n",
    "    # 图像标题\n",
    "    if title is not None:\n",
    "        pl.title(title)\n",
    "    # 绘制坐标\n",
    "    num_local = np.array(range(len(labels_name)))\n",
    "    if axis_labels is None:\n",
    "        axis_labels = labels_name\n",
    "    pl.xticks(num_local, axis_labels, rotation=45, fontsize=10)  # 将标签印在x轴坐标上， 并倾斜45度\n",
    "    pl.yticks(num_local, axis_labels, fontsize=10)  # 将标签印在y轴坐标上\n",
    "    pl.ylabel('True label',fontsize=12,verticalalignment='center')\n",
    "    pl.xlabel('Predicted label',fontsize=12,verticalalignment='center')\n",
    "    \n",
    "\n",
    "    # 将百分比打印在相应的格子内，大于thresh的用白字，小于的用黑字\n",
    "    for i in range(np.shape(cm)[0]):\n",
    "        for j in range(np.shape(cm)[1]):\n",
    "            if int(cm[i][j] * 100 + 0.5) > 0:\n",
    "                pl.text(j, i, format(int(cm[i][j] * 100), 'd') + '%',\n",
    "                        ha=\"center\", va=\"center\",\n",
    "                        color=\"white\" if cm[i][j] > thresh else \"black\")  # 如果要更改颜色风格，需要同时更改此行\n",
    "    # 显示\n",
    "    # pl.figure(dpi=1000) \n",
    "    # pl.savefig('/content/gdrive/MyDrive/UV3/resultImage/MVRANcm_total.png',dpi=1000,bbox_inches = 'tight')\n",
    "    \n",
    "    pl.show()\n",
    "def transpose(input):\n",
    "    \n",
    "    x=tf.transpose(input, perm=[0, 2, 1])\n",
    "    return x\n",
    "\n",
    "def expand_dims1(input):\n",
    "    x=tf.expand_dims(input, axis=1)\n",
    "    return x\n",
    "\n",
    "def expand_dims2(input):\n",
    "    x=tf.expand_dims(input, axis=-1)\n",
    "    return x\n",
    "\n",
    "def matmul(input):\n",
    "    \"\"\"input must be a  list\"\"\"\n",
    "    return tf.matmul(input[0],input[1])\n",
    "\n",
    "def gcnet_layer(inputs):\n",
    "    \n",
    "    x=inputs\n",
    "    bs, h, w, c = x.get_shape().as_list()\n",
    "    input_x = x\n",
    "    input_x = Reshape((-1, c))(input_x)  # [N, H*W, C]\n",
    "    input_x = Lambda(transpose)(input_x)  # [N,C,H*W]\n",
    "    input_x = Lambda(expand_dims1)(input_x)\n",
    "\n",
    "    context_mask = Conv2D(filters=1, kernel_size=(1, 1))(x)\n",
    "    context_mask = Reshape((-1, 1))(context_mask)\n",
    "    context_mask = softmax(context_mask, axis=1)  # [N, H*W, 1]\n",
    "    context_mask = Lambda(transpose)(context_mask)\n",
    "    context_mask = Lambda(expand_dims2)(context_mask)\n",
    "\n",
    "    context = Lambda(matmul)([input_x,context_mask])  # [N,1,c,1]\n",
    "    context = Reshape((1, 1, c))(context)\n",
    "\n",
    "    context_transform = Conv2D(int(c/8), (1, 1))(context)\n",
    "    context_transform = LayerNormalization()(context_transform)\n",
    "    context_transform = relu(context_transform)\n",
    "    context_transform = Conv2D(c, (1, 1))(context_transform)\n",
    "\n",
    "    x= add([x,context_transform])\n",
    "\n",
    "    return x"
   ]
  },
  {
   "cell_type": "markdown",
   "metadata": {},
   "source": [
    "# **Model Traning**"
   ]
  },
  {
   "cell_type": "markdown",
   "metadata": {},
   "source": [
    "###  **一维融合**"
   ]
  },
  {
   "cell_type": "code",
   "execution_count": 11,
   "metadata": {},
   "outputs": [],
   "source": [
    "def MDCNN_1D(input_layer):\n",
    "    n_filters = 64\n",
    "\n",
    "    # input_layer = L.Input(shape=inputShape)\n",
    "    conv_1 = Conv2D(2*n_filters, (7, 7), padding='valid', strides=(2, 2), kernel_initializer='he_normal',\n",
    "                    kernel_regularizer=regularizers.l2(0.0001))(input_layer)\n",
    "    conv_2 = BN_LeakyReLU(conv_1)\n",
    "    # print('conv_2: {}'.format(conv_2.shape))\n",
    "    block_1 = MDCN(conv_2, 2*n_filters)  # 128\n",
    "    # print('block_1: {}'.format(block_1.shape))\n",
    "    block_2 = MDCN(block_1, 2*n_filters)  # 128\n",
    "    # print('block_2: {}'.format(block_2.shape))\n",
    "    conv_3 = Conv2D(4*n_filters, (7, 7), padding='valid', strides=(2, 2), kernel_initializer='he_normal',\n",
    "                    kernel_regularizer=regularizers.l2(0.0001))(block_2)\n",
    "    # conv_3 = Conv2D(4*n_filters, (3, 3), padding='valid', strides=(1, 1), kernel_initializer='he_normal',\n",
    "    #                 kernel_regularizer=regularizers.l2(0.0001))(conv_3 )\n",
    "    conv_3 = BN_LeakyReLU(conv_3)\n",
    "    # print('conv_3: {}'.format(conv_3.shape)\n",
    "    block_3 = MDCN(conv_3, 4*n_filters)  # 256\n",
    "    # print('block_3: {}'.format(block_3.shape))\n",
    "    block_4 = MDCN(block_3, 4*n_filters)  # 256\n",
    "    # print('block_4: {}'.format(block_4.shape))\n",
    "    conv_4 = Conv2D(8*n_filters, (3,3), padding='valid', strides=(1, 1), kernel_initializer='he_normal',\n",
    "                    kernel_regularizer=regularizers.l2(0.0001))(block_4)  # 512\n",
    "    conv_4 = Conv2D(8*n_filters, (3, 3), padding='valid', strides=(1, 1), kernel_initializer='he_normal',\n",
    "                    kernel_regularizer=regularizers.l2(0.0001))(conv_4)  # 512\n",
    "    conv_4 = BN_LeakyReLU(conv_4)\n",
    "    # print('conv_4: {}'.format(conv_4.shape))\n",
    "\n",
    "    block_5 = MDCN(conv_4, 8*n_filters)  # 512\n",
    "    # # print('block_5: {}'.format(block_5.shape))\n",
    "    conv_5 = Conv2D(3, (3, 3), padding='same', strides=(1, 1), kernel_initializer='he_normal',\n",
    "                    kernel_regularizer=regularizers.l2(0.0001))(block_5)  # 512 \n",
    "    block_6 = MDCN(conv_5, 3)  # 3\n",
    "    # print('block_6: {}'.format(block_6.shape))\n",
    "    # print(block_6)\n",
    "    \n",
    "    # VIT = vit.vit_b16option(\n",
    "    #     image_size=48,\n",
    "    #     activation='sigmoid',\n",
    "    #     pretrained=False,\n",
    "    #     include_top=True,\n",
    "    #     pretrained_top=False,\n",
    "    #     classes=512\n",
    "    # ) \n",
    "    VIT = vit.vit_b16option(\n",
    "        image_size=48,\n",
    "        activation='sigmoid',\n",
    "        pretrained=False,\n",
    "        include_top=True,\n",
    "        pretrained_top=False,\n",
    "        classes=512\n",
    "    ) \n",
    "    output = VIT(block_6)\n",
    "\n",
    "    return output"
   ]
  },
  {
   "cell_type": "code",
   "execution_count": 6,
   "metadata": {},
   "outputs": [],
   "source": [
    "\n",
    "def trainFusion_1D(X,Y,valX,valY):\n",
    "    mmodel = FusionModel_1D()\n",
    "    optm = K.optimizers.Adam(lr = 1e-4)\n",
    "    # optm = K.optimizers.Adam(lr = 1e-4)\n",
    "    mmodel.compile(optimizer = optm, loss = tf.keras.losses.CategoricalCrossentropy(), metrics=['acc'])\n",
    "    model_checkpoint = ModelCheckpoint('/home/chen/UV3/weightManager/Fusion_1D.h5', monitor='val_acc', verbose=0, \n",
    "                                        save_best_only=True, save_weights_only=False,period=1)\n",
    "\n",
    "    early_stopping =EarlyStopping(monitor='val_acc', patience=20)\n",
    "    input_y = to_categorical(Y)\n",
    "    # print(input_y.shape)\n",
    "    input_x = [\n",
    "        X[:,0,:,:,:],\n",
    "        X[:,1,:,:,:],\n",
    "        X[:,2,:,:,:],\n",
    "        X[:,3,:,:,:],\n",
    "        X[:,4,:,:,:],        \n",
    "    ]\n",
    "    input_val_y = to_categorical(valY)\n",
    "    input_val_x = [\n",
    "        valX[:,0,:,:,:],\n",
    "        valX[:,1,:,:,:],\n",
    "        valX[:,2,:,:,:],\n",
    "        valX[:,3,:,:,:],\n",
    "        valX[:,4,:,:,:],        首页\n",
    "    ]\n",
    "    print(input_y.shape,input_val_y.shape)\n",
    "\n",
    "    # history=mmodel.fit(x=input_x,y=input_y,batch_size=25,epochs=200,shuffle=True,validation_data=(input_val_x, input_val_y),\n",
    "    #             callbacks=[model_checkpoint])\n",
    "    history=mmodel.fit(x=input_x,y=input_y,batch_size=6,epochs=100,shuffle=True,validation_data=(input_val_x, input_val_y),\n",
    "                callbacks=[model_checkpoint,early_stopping])\n",
    "    return historye([embedding0,embedding90,embedding180,embedding270])\n",
    "    CNN_embedding = tf.stack([embedding0,embedding90,embedding180,embedding270], 1) \n",
    "    # print(CNN_embedding.shape)\n",
    "    # CNN_embedding = tf.expand_dims(CNN_embedding, 0)\n",
    "    LSTM_output = L.Bidirectional(L.LSTM(units=64,return_sequences=True),input_shape=inputShapeLSTM)(CNN_embedding)\n",
    "    attention_mul = attention_3d_block(LSTM_output)\n",
    "    # print(attention_mul.shape)\n",
    "    LSTM_vector = L.Flatten(input_shape = (4,128))(attention_mul)\n",
    "    output = LSTM_vector\n",
    "    return output"
   ]
  },
  {
   "cell_type": "code",
   "execution_count": 7,
   "metadata": {},
   "outputs": [],
   "source": [
    "def FusionModel_1D():\n",
    "    inputUV = L.Input(shape=inputShape)\n",
    "    input0 = L.Input(shape=inputShape)\n",
    "    input90 = L.Input(shape=inputShape)\n",
    "    input180 = L.Input(shape=inputShape)\n",
    "    input270 = L.Input(shape=inputShape)\n",
    "\n",
    "    #Two branch\n",
    "    left = MDCNN_1D(inputUV)\n",
    "    right = MVRAN_1D(input0,input90,input180,input270)\n",
    "    \n",
    "    ######################1-D Fusion#########################\n",
    "    StackFeature = tf.stack([left,right],2) \n",
    "    print(StackFeature.shape)\n",
    "    StackFeature= tf.expand_dims(StackFeature,axis=1)\n",
    "    print(StackFeature.shape)\n",
    "    conv_1 = Conv2D(256, (1, 1), padding='same',kernel_initializer='he_normal',kernel_regularizer=regularizers.l2(0.0001))(StackFeature)\n",
    "    print(conv_1.shape)\n",
    "    leftWeight = Conv2D(1, (1, 1), padding='same',kernel_initializer='he_normal',kernel_regularizer=regularizers.l2(0.0001))(conv_1)\n",
    "    rightWeight = Conv2D(1, (1, 1), padding='same',kernel_initializer='he_normal',kernel_regularizer=regularizers.l2(0.0001))(conv_1)\n",
    "    leftWeight = tf.squeeze(leftWeight,axis=[1,3])\n",
    "    rightWeight = tf.squeeze(rightWeight,axis=[1,3])\n",
    "    concatLeft = L.Multiply()([left, leftWeight])\n",
    "    concatRight = L.Multiply()([right, rightWeight])\n",
    "    print(concatLeft.shape)\n",
    "    concat_2 = tf.stack([concatLeft,concatRight], 2)\n",
    "    concat_2 = tf.expand_dims(concat_2,axis=1)\n",
    "    conv_2 = Conv2D(64, (1, 1), padding='same',kernel_initializer='he_normal',kernel_regularizer=regularizers.l2(0.0001))(concat_2)\n",
    "    flat = L.Flatten()(conv_2)\n",
    "\n",
    "    dense1 = L.Dense(128, kernel_initializer='he_normal',kernel_regularizer=regularizers.l2(0.0001))(flat)\n",
    "    dense2 = L.Dropout(0.5)(dense1)\n",
    "    output = L.Dense(2, activation='softmax')(dense2)\n",
    "    # output = StackFeature\n",
    "    FModel = Model(inputs=[inputUV,input0,input90,input180,input270],outputs = output)\n",
    "    return FModel"
   ]
  },
  {
   "cell_type": "code",
   "execution_count": 8,
   "metadata": {},
   "outputs": [],
   "source": [
    " #模型训练\n",
    "def trainFusion_1D(X,Y,valX,valY):\n",
    "    mmodel = FusionModel_1D()\n",
    "    optm = K.optimizers.Adam(lr = 1e-4)\n",
    "    # optm = K.optimizers.Adam(lr = 1e-4)\n",
    "    mmodel.compile(optimizer = optm, loss = tf.keras.losses.CategoricalCrossentropy(), metrics=['acc'])\n",
    "    model_checkpoint = ModelCheckpoint('/home/chen/UV3/weightManager/Fusion_1D.h5', monitor='val_acc', verbose=0, \n",
    "                                        save_best_only=True, save_weights_only=False,period=1)\n",
    "\n",
    "    early_stopping =EarlyStopping(monitor='val_acc', patience=20)\n",
    "    input_y = to_categorical(Y)\n",
    "    # print(input_y.shape)\n",
    "    input_x = [\n",
    "        X[:,0,:,:,:],\n",
    "        X[:,1,:,:,:],\n",
    "        X[:,2,:,:,:],\n",
    "        X[:,3,:,:,:],\n",
    "        X[:,4,:,:,:],        \n",
    "    ]\n",
    "    input_val_y = to_categorical(valY)\n",
    "    input_val_x = [\n",
    "        valX[:,0,:,:,:],\n",
    "        valX[:,1,:,:,:],\n",
    "        valX[:,2,:,:,:],\n",
    "        valX[:,3,:,:,:],\n",
    "        valX[:,4,:,:,:],        首页\n",
    "    ]\n",
    "    print(input_y.shape,input_val_y.shape)\n",
    "\n",
    "    # history=mmodel.fit(x=input_x,y=input_y,batch_size=25,epochs=200,shuffle=True,validation_data=(input_val_x, input_val_y),\n",
    "    #             callbacks=[model_checkpoint])\n",
    "    history=mmodel.fit(x=input_x,y=input_y,batch_size=6,epochs=100,shuffle=True,validation_data=(input_val_x, input_val_y),\n",
    "                callbacks=[model_checkpoint,early_stopping])\n",
    "    return history"
   ]
  },
  {
   "cell_type": "code",
   "execution_count": 9,
   "metadata": {},
   "outputs": [],
   "source": [
    "train_X = np.load('/home/chen/UV3/Dataset/Total/train_X.npy')\n",
    "train_Y = np.load('/home/chen/UV3/Dataset/Total/train_Y.npy')\n",
    "val_X = np.load('/home/chen/UV3/Dataset/Total/test_X.npy')\n",
    "val_Y = np.load('/home/chen/UV3/Dataset/Total/test_Y.npy')\n",
    "# trainFusion_1D(train_X,train_Y,val_X,val_Y)"
   ]
  },
  {
   "cell_type": "code",
   "execution_count": null,
   "metadata": {},
   "outputs": [],
   "source": [
    "# trainFusion_1D(train_X,train_Y,val_X,val_Y)"
   ]
  },
  {
   "cell_type": "code",
   "execution_count": 9,
   "metadata": {},
   "outputs": [],
   "source": [
    "\n",
    "test_X = np.load('/home/chen/UV3/Dataset/Total/test_X.npy')\n",
    "test_x = [\n",
    "    test_X[:,0,:,:,:],\n",
    "    test_X[:,1,:,:,:],\n",
    "    test_X[:,2,:,:,:],\n",
    "    test_X[:,3,:,:,:],\n",
    "    test_X[:,4,:,:,:],\n",
    "    ]\n",
    "test_Y = np.load('/home/chen/UV3/Dataset/Total/test_Y.npy')\n",
    "test_y = to_categorical(test_Y)\n",
    "labels = ['UV', 'non-UV']"
   ]
  },
  {
   "cell_type": "code",
   "execution_count": 10,
   "metadata": {},
   "outputs": [
    {
     "name": "stderr",
     "output_type": "stream",
     "text": [
      "2021-12-26 16:30:49.647221: I tensorflow/stream_executor/platform/default/dso_loader.cc:53] Successfully opened dynamic library libcuda.so.1\n",
      "2021-12-26 16:30:49.698396: I tensorflow/stream_executor/cuda/cuda_gpu_executor.cc:937] successful NUMA node read from SysFS had negative value (-1), but there must be at least one NUMA node, so returning NUMA node zero\n",
      "2021-12-26 16:30:49.698994: I tensorflow/core/common_runtime/gpu/gpu_device.cc:1733] Found device 0 with properties: \n",
      "pciBusID: 0000:02:00.0 name: NVIDIA GeForce RTX 2080 Ti computeCapability: 7.5\n",
      "coreClock: 1.545GHz coreCount: 68 deviceMemorySize: 10.76GiB deviceMemoryBandwidth: 573.69GiB/s\n",
      "2021-12-26 16:30:49.699022: I tensorflow/stream_executor/platform/default/dso_loader.cc:53] Successfully opened dynamic library libcudart.so.11.0\n",
      "2021-12-26 16:30:49.716746: I tensorflow/stream_executor/platform/default/dso_loader.cc:53] Successfully opened dynamic library libcublas.so.11\n",
      "2021-12-26 16:30:49.716839: I tensorflow/stream_executor/platform/default/dso_loader.cc:53] Successfully opened dynamic library libcublasLt.so.11\n",
      "2021-12-26 16:30:49.724910: I tensorflow/stream_executor/platform/default/dso_loader.cc:53] Successfully opened dynamic library libcufft.so.10\n",
      "2021-12-26 16:30:49.728444: I tensorflow/stream_executor/platform/default/dso_loader.cc:53] Successfully opened dynamic library libcurand.so.10\n",
      "2021-12-26 16:30:49.743226: I tensorflow/stream_executor/platform/default/dso_loader.cc:53] Successfully opened dynamic library libcusolver.so.11\n",
      "2021-12-26 16:30:49.747366: I tensorflow/stream_executor/platform/default/dso_loader.cc:53] Successfully opened dynamic library libcusparse.so.11\n",
      "2021-12-26 16:30:49.748732: I tensorflow/stream_executor/platform/default/dso_loader.cc:53] Successfully opened dynamic library libcudnn.so.8\n",
      "2021-12-26 16:30:49.748836: I tensorflow/stream_executor/cuda/cuda_gpu_executor.cc:937] successful NUMA node read from SysFS had negative value (-1), but there must be at least one NUMA node, so returning NUMA node zero\n",
      "2021-12-26 16:30:49.749327: I tensorflow/stream_executor/cuda/cuda_gpu_executor.cc:937] successful NUMA node read from SysFS had negative value (-1), but there must be at least one NUMA node, so returning NUMA node zero\n",
      "2021-12-26 16:30:49.750099: I tensorflow/core/common_runtime/gpu/gpu_device.cc:1871] Adding visible gpu devices: 0\n",
      "2021-12-26 16:30:49.750583: I tensorflow/core/platform/cpu_feature_guard.cc:142] This TensorFlow binary is optimized with oneAPI Deep Neural Network Library (oneDNN) to use the following CPU instructions in performance-critical operations:  AVX2 FMA\n",
      "To enable them in other operations, rebuild TensorFlow with the appropriate compiler flags.\n",
      "2021-12-26 16:30:49.750891: I tensorflow/stream_executor/cuda/cuda_gpu_executor.cc:937] successful NUMA node read from SysFS had negative value (-1), but there must be at least one NUMA node, so returning NUMA node zero\n",
      "2021-12-26 16:30:49.751311: I tensorflow/core/common_runtime/gpu/gpu_device.cc:1733] Found device 0 with properties: \n",
      "pciBusID: 0000:02:00.0 name: NVIDIA GeForce RTX 2080 Ti computeCapability: 7.5\n",
      "coreClock: 1.545GHz coreCount: 68 deviceMemorySize: 10.76GiB deviceMemoryBandwidth: 573.69GiB/s\n",
      "2021-12-26 16:30:49.751377: I tensorflow/stream_executor/cuda/cuda_gpu_executor.cc:937] successful NUMA node read from SysFS had negative value (-1), but there must be at least one NUMA node, so returning NUMA node zero\n",
      "2021-12-26 16:30:49.751817: I tensorflow/stream_executor/cuda/cuda_gpu_executor.cc:937] successful NUMA node read from SysFS had negative value (-1), but there must be at least one NUMA node, so returning NUMA node zero\n",
      "2021-12-26 16:30:49.752235: I tensorflow/core/common_runtime/gpu/gpu_device.cc:1871] Adding visible gpu devices: 0\n",
      "2021-12-26 16:30:49.752739: I tensorflow/stream_executor/platform/default/dso_loader.cc:53] Successfully opened dynamic library libcudart.so.11.0\n",
      "2021-12-26 16:30:50.746012: I tensorflow/core/common_runtime/gpu/gpu_device.cc:1258] Device interconnect StreamExecutor with strength 1 edge matrix:\n",
      "2021-12-26 16:30:50.746036: I tensorflow/core/common_runtime/gpu/gpu_device.cc:1264]      0 \n",
      "2021-12-26 16:30:50.746042: I tensorflow/core/common_runtime/gpu/gpu_device.cc:1277] 0:   N \n",
      "2021-12-26 16:30:50.746224: I tensorflow/stream_executor/cuda/cuda_gpu_executor.cc:937] successful NUMA node read from SysFS had negative value (-1), but there must be at least one NUMA node, so returning NUMA node zero\n",
      "2021-12-26 16:30:50.746725: I tensorflow/stream_executor/cuda/cuda_gpu_executor.cc:937] successful NUMA node read from SysFS had negative value (-1), but there must be at least one NUMA node, so returning NUMA node zero\n",
      "2021-12-26 16:30:50.747228: I tensorflow/stream_executor/cuda/cuda_gpu_executor.cc:937] successful NUMA node read from SysFS had negative value (-1), but there must be at least one NUMA node, so returning NUMA node zero\n",
      "2021-12-26 16:30:50.747657: I tensorflow/core/common_runtime/gpu/gpu_device.cc:1418] Created TensorFlow device (/job:localhost/replica:0/task:0/device:GPU:0 with 9655 MB memory) -> physical GPU (device: 0, name: NVIDIA GeForce RTX 2080 Ti, pci bus id: 0000:02:00.0, compute capability: 7.5)\n"
     ]
    }
   ],
   "source": [
    "testmodel = load_model('/home/chen/UV3/weightManager/Fusion_1D.h5')"
   ]
  },
  {
   "cell_type": "code",
   "execution_count": 11,
   "metadata": {},
   "outputs": [
    {
     "name": "stderr",
     "output_type": "stream",
     "text": [
      "2021-12-26 16:30:58.991082: I tensorflow/compiler/mlir/mlir_graph_optimization_pass.cc:176] None of the MLIR Optimization Passes are enabled (registered 2)\n",
      "2021-12-26 16:30:59.012500: I tensorflow/core/platform/profile_utils/cpu_utils.cc:114] CPU Frequency: 3600000000 Hz\n",
      "2021-12-26 16:31:04.398545: I tensorflow/stream_executor/platform/default/dso_loader.cc:53] Successfully opened dynamic library libcudnn.so.8\n",
      "2021-12-26 16:31:05.231146: I tensorflow/stream_executor/cuda/cuda_dnn.cc:359] Loaded cuDNN version 8101\n",
      "2021-12-26 16:31:06.617291: I tensorflow/stream_executor/platform/default/dso_loader.cc:53] Successfully opened dynamic library libcublas.so.11\n",
      "2021-12-26 16:31:07.529374: I tensorflow/stream_executor/platform/default/dso_loader.cc:53] Successfully opened dynamic library libcublasLt.so.11\n"
     ]
    },
    {
     "name": "stdout",
     "output_type": "stream",
     "text": [
      "25/25 [==============================] - 27s 607ms/step\n"
     ]
    }
   ],
   "source": [
    "Y_pred = testmodel.predict(test_x, verbose=1)"
   ]
  },
  {
   "cell_type": "code",
   "execution_count": 15,
   "metadata": {},
   "outputs": [
    {
     "name": "stdout",
     "output_type": "stream",
     "text": [
      "[[233  24]\n",
      " [ 33 482]]\n",
      "92.61658031088082 0.8352107612570778 0.52\n"
     ]
    }
   ],
   "source": [
    "for i in range(50,51,1):\n",
    "  threshold = i/100\n",
    "  tPred = getOAThreshold(Y_pred,threshold)\n",
    "  cm,oa,kappa = get_cm_oa_kappa(test_Y,tPred)\n",
    "  print(cm)\n",
    "  print(oa,kappa,threshold)"
   ]
  },
  {
   "cell_type": "code",
   "execution_count": 157,
   "metadata": {},
   "outputs": [],
   "source": [
    "def MVRAN_1D(input0,input90,input180,input270):\n",
    "  \n",
    "    # input = L.Input(shape=(4,224,224,3))\n",
    "    embedding_model = efn.EfficientNetB0()\n",
    "    embedding0 = embedding_model(input0)\n",
    "    embedding90 = embedding_model(input90)\n",
    "    embedding180 = embedding_model(input180)\n",
    "    embedding270 = embedding_model(input270)\n",
    " \n",
    "\n",
    "    # CNN_embedding = L.concatenate([embedding0,embedding90,embedding180,embedding270])\n",
    "    CNN_embedding = tf.stack([embedding0,embedding90,embedding180,embedding270], 1) \n",
    "    # print(CNN_embedding.shape)\n",
    "    # CNN_embedding = tf.expand_dims(CNN_embedding, 0)\n",
    "    LSTM_output = L.Bidirectional(L.LSTM(units=64,return_sequences=True),input_shape=inputShapeLSTM)(CNN_embedding)\n",
    "    attention_mul = attention_3d_block(LSTM_output)\n",
    "    # print(attention_mul.shape)\n",
    "    LSTM_vector = L.Flatten(input_shape = (4,128))(attention_mul)\n",
    "    output = LSTM_vector\n",
    "    return output"
   ]
  },
  {
   "cell_type": "markdown",
   "metadata": {},
   "source": [
    "# **Model Testing**"
   ]
  },
  {
   "cell_type": "code",
   "execution_count": 5,
   "metadata": {},
   "outputs": [],
   "source": [
    "\n",
    "test_X = np.load('/home/chen/UV3/Dataset/Total/test_X.npy')\n",
    "test_x = [\n",
    "        test_X[:,0,:,:,:],\n",
    "        test_X[:,1,:,:,:],\n",
    "        test_X[:,2,:,:,:],\n",
    "        test_X[:,3,:,:,:],\n",
    "        test_X[:,4,:,:,:],        \n",
    "    ]\n",
    "# test_x =  test_X[:,0,:,:,:]\n",
    "        \n",
    "test_Y = np.load('/home/chen/UV3/Dataset/Total/test_Y.npy')\n",
    "test_y = to_categorical(test_Y)\n",
    "labels = ['UV', 'non-UV']"
   ]
  },
  {
   "cell_type": "code",
   "execution_count": 6,
   "metadata": {},
   "outputs": [
    {
     "name": "stderr",
     "output_type": "stream",
     "text": [
      "2022-03-24 16:27:50.407697: I tensorflow/stream_executor/platform/default/dso_loader.cc:53] Successfully opened dynamic library libcuda.so.1\n",
      "2022-03-24 16:27:50.442373: I tensorflow/stream_executor/cuda/cuda_gpu_executor.cc:937] successful NUMA node read from SysFS had negative value (-1), but there must be at least one NUMA node, so returning NUMA node zero\n",
      "2022-03-24 16:27:50.442718: I tensorflow/core/common_runtime/gpu/gpu_device.cc:1733] Found device 0 with properties: \n",
      "pciBusID: 0000:02:00.0 name: NVIDIA GeForce RTX 2080 Ti computeCapability: 7.5\n",
      "coreClock: 1.545GHz coreCount: 68 deviceMemorySize: 10.76GiB deviceMemoryBandwidth: 573.69GiB/s\n",
      "2022-03-24 16:27:50.442735: I tensorflow/stream_executor/platform/default/dso_loader.cc:53] Successfully opened dynamic library libcudart.so.11.0\n",
      "2022-03-24 16:27:50.444556: I tensorflow/stream_executor/platform/default/dso_loader.cc:53] Successfully opened dynamic library libcublas.so.11\n",
      "2022-03-24 16:27:50.444604: I tensorflow/stream_executor/platform/default/dso_loader.cc:53] Successfully opened dynamic library libcublasLt.so.11\n",
      "2022-03-24 16:27:50.445171: I tensorflow/stream_executor/platform/default/dso_loader.cc:53] Successfully opened dynamic library libcufft.so.10\n",
      "2022-03-24 16:27:50.445318: I tensorflow/stream_executor/platform/default/dso_loader.cc:53] Successfully opened dynamic library libcurand.so.10\n",
      "2022-03-24 16:27:50.447015: I tensorflow/stream_executor/platform/default/dso_loader.cc:53] Successfully opened dynamic library libcusolver.so.11\n",
      "2022-03-24 16:27:50.447445: I tensorflow/stream_executor/platform/default/dso_loader.cc:53] Successfully opened dynamic library libcusparse.so.11\n",
      "2022-03-24 16:27:50.447536: I tensorflow/stream_executor/platform/default/dso_loader.cc:53] Successfully opened dynamic library libcudnn.so.8\n",
      "2022-03-24 16:27:50.447626: I tensorflow/stream_executor/cuda/cuda_gpu_executor.cc:937] successful NUMA node read from SysFS had negative value (-1), but there must be at least one NUMA node, so returning NUMA node zero\n",
      "2022-03-24 16:27:50.448012: I tensorflow/stream_executor/cuda/cuda_gpu_executor.cc:937] successful NUMA node read from SysFS had negative value (-1), but there must be at least one NUMA node, so returning NUMA node zero\n",
      "2022-03-24 16:27:50.448320: I tensorflow/core/common_runtime/gpu/gpu_device.cc:1871] Adding visible gpu devices: 0\n",
      "2022-03-24 16:27:50.448585: I tensorflow/core/platform/cpu_feature_guard.cc:142] This TensorFlow binary is optimized with oneAPI Deep Neural Network Library (oneDNN) to use the following CPU instructions in performance-critical operations:  AVX2 FMA\n",
      "To enable them in other operations, rebuild TensorFlow with the appropriate compiler flags.\n",
      "2022-03-24 16:27:50.448817: I tensorflow/stream_executor/cuda/cuda_gpu_executor.cc:937] successful NUMA node read from SysFS had negative value (-1), but there must be at least one NUMA node, so returning NUMA node zero\n",
      "2022-03-24 16:27:50.449126: I tensorflow/core/common_runtime/gpu/gpu_device.cc:1733] Found device 0 with properties: \n",
      "pciBusID: 0000:02:00.0 name: NVIDIA GeForce RTX 2080 Ti computeCapability: 7.5\n",
      "coreClock: 1.545GHz coreCount: 68 deviceMemorySize: 10.76GiB deviceMemoryBandwidth: 573.69GiB/s\n",
      "2022-03-24 16:27:50.449174: I tensorflow/stream_executor/cuda/cuda_gpu_executor.cc:937] successful NUMA node read from SysFS had negative value (-1), but there must be at least one NUMA node, so returning NUMA node zero\n",
      "2022-03-24 16:27:50.449500: I tensorflow/stream_executor/cuda/cuda_gpu_executor.cc:937] successful NUMA node read from SysFS had negative value (-1), but there must be at least one NUMA node, so returning NUMA node zero\n",
      "2022-03-24 16:27:50.449795: I tensorflow/core/common_runtime/gpu/gpu_device.cc:1871] Adding visible gpu devices: 0\n",
      "2022-03-24 16:27:50.449822: I tensorflow/stream_executor/platform/default/dso_loader.cc:53] Successfully opened dynamic library libcudart.so.11.0\n",
      "2022-03-24 16:27:50.847453: I tensorflow/core/common_runtime/gpu/gpu_device.cc:1258] Device interconnect StreamExecutor with strength 1 edge matrix:\n",
      "2022-03-24 16:27:50.847477: I tensorflow/core/common_runtime/gpu/gpu_device.cc:1264]      0 \n",
      "2022-03-24 16:27:50.847482: I tensorflow/core/common_runtime/gpu/gpu_device.cc:1277] 0:   N \n",
      "2022-03-24 16:27:50.847649: I tensorflow/stream_executor/cuda/cuda_gpu_executor.cc:937] successful NUMA node read from SysFS had negative value (-1), but there must be at least one NUMA node, so returning NUMA node zero\n",
      "2022-03-24 16:27:50.848019: I tensorflow/stream_executor/cuda/cuda_gpu_executor.cc:937] successful NUMA node read from SysFS had negative value (-1), but there must be at least one NUMA node, so returning NUMA node zero\n",
      "2022-03-24 16:27:50.848343: I tensorflow/stream_executor/cuda/cuda_gpu_executor.cc:937] successful NUMA node read from SysFS had negative value (-1), but there must be at least one NUMA node, so returning NUMA node zero\n",
      "2022-03-24 16:27:50.848636: I tensorflow/core/common_runtime/gpu/gpu_device.cc:1418] Created TensorFlow device (/job:localhost/replica:0/task:0/device:GPU:0 with 9655 MB memory) -> physical GPU (device: 0, name: NVIDIA GeForce RTX 2080 Ti, pci bus id: 0000:02:00.0, compute capability: 7.5)\n"
     ]
    }
   ],
   "source": [
    "testmodel = load_model('/home/chen/UV3/weightManager/Ablation_LSTM.h5')\n",
    "# testmodel = load_model('/home/chen/UV3/weightManager/DNVIT_only.h5', custom_objects=get_custom_objects())"
   ]
  },
  {
   "cell_type": "code",
   "execution_count": 7,
   "metadata": {},
   "outputs": [
    {
     "name": "stderr",
     "output_type": "stream",
     "text": [
      "2022-03-24 16:27:56.579281: I tensorflow/compiler/mlir/mlir_graph_optimization_pass.cc:176] None of the MLIR Optimization Passes are enabled (registered 2)\n",
      "2022-03-24 16:27:56.596533: I tensorflow/core/platform/profile_utils/cpu_utils.cc:114] CPU Frequency: 3600000000 Hz\n",
      "2022-03-24 16:28:00.804688: I tensorflow/stream_executor/platform/default/dso_loader.cc:53] Successfully opened dynamic library libcudnn.so.8\n",
      "2022-03-24 16:28:01.120809: I tensorflow/stream_executor/cuda/cuda_dnn.cc:359] Loaded cuDNN version 8101\n",
      "2022-03-24 16:28:01.533802: I tensorflow/stream_executor/platform/default/dso_loader.cc:53] Successfully opened dynamic library libcublas.so.11\n",
      "2022-03-24 16:28:01.803932: I tensorflow/stream_executor/platform/default/dso_loader.cc:53] Successfully opened dynamic library libcublasLt.so.11\n"
     ]
    },
    {
     "name": "stdout",
     "output_type": "stream",
     "text": [
      "25/25 [==============================] - 23s 589ms/step\n"
     ]
    }
   ],
   "source": [
    "Y_pred = testmodel.predict(test_x, verbose=1)"
   ]
  },
  {
   "cell_type": "code",
   "execution_count": 8,
   "metadata": {},
   "outputs": [],
   "source": [
    "# Pdata = pd.DataFrame(Y_pred)\n",
    "# # writer = pd.ExcelWriter('/home/chen/UV3/PaperModification/SVProb.xlsx')\n",
    "# Pdata.to_excel('/home/chen/UV3/PaperModification/SV270_Prob.xlsx')\n"
   ]
  },
  {
   "cell_type": "code",
   "execution_count": 9,
   "metadata": {},
   "outputs": [
    {
     "name": "stdout",
     "output_type": "stream",
     "text": [
      "90.41450777202073 0.7891193125189183 0.5\n"
     ]
    }
   ],
   "source": [
    "for i in range(50,51,1):\n",
    "  threshold = i/100\n",
    "  tPred = getOAThreshold(Y_pred,threshold)\n",
    "  cm,oa,kappa = get_cm_oa_kappa(test_Y,tPred)\n",
    "  print(oa,kappa,threshold)"
   ]
  },
  {
   "cell_type": "code",
   "execution_count": 38,
   "metadata": {},
   "outputs": [],
   "source": [
    "tPred = to_categorical(tPred)"
   ]
  },
  {
   "cell_type": "code",
   "execution_count": 125,
   "metadata": {},
   "outputs": [
    {
     "data": {
      "image/png": "[encoded data removed]",
      "text/plain": [
       "<Figure size 432x288 with 2 Axes>"
      ]
     },
     "metadata": {
      "needs_background": "light"
     },
     "output_type": "display_data"
    }
   ],
   "source": [
    "plot_matrix(test_Y ,tPred, [0,1], title='Confusion Matrix',axis_labels=labels)"
   ]
  }
 ],
 "metadata": {
  "interpreter": {
   "hash": "058888423b02b32be1997ef6d21d437005fd3a89b329c0bd5be1eef7769da2c3"
  },
  "kernelspec": {
   "display_name": "Python 3.7.0 64-bit ('tf250': conda)",
   "name": "python3"
  },
  "language_info": {
   "codemirror_mode": {
    "name": "ipython",
    "version": 3
   },
   "file_extension": ".py",
   "mimetype": "text/x-python",
   "name": "python",
   "nbconvert_exporter": "python",
   "pygments_lexer": "ipython3",
   "version": "3.7.0"
  },
  "orig_nbformat": 4
 },
 "nbformat": 4,
 "nbformat_minor": 2
}
